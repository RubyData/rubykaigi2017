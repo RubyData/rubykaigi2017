{
 "cells": [
  {
   "cell_type": "code",
   "execution_count": 3,
   "metadata": {
    "scrolled": true
   },
   "outputs": [
    {
     "name": "stdout",
     "output_type": "stream",
     "text": [
      "batch size : 5000\n",
      "read : 0.23934127s\n"
     ]
    },
    {
     "data": {
      "text/plain": [
       "1"
      ]
     },
     "execution_count": 3,
     "metadata": {},
     "output_type": "execute_result"
    }
   ],
   "source": [
    "require \"time\"\n",
    "require \"csv\"\n",
    "\n",
    "start_time = Time.now\n",
    "CSV.open(\"/dev/shm/test.csv\", headers: false) do |row|\n",
    "   puts \"batch size : #{row.count}\"\n",
    "end\n",
    "puts \"read : #{Time.now - start_time}s\"\n",
    " File.delete \"/dev/shm/test.csv\""
   ]
  },
  {
   "cell_type": "code",
   "execution_count": 4,
   "metadata": {},
   "outputs": [
    {
     "name": "stdout",
     "output_type": "stream",
     "text": [
      "batch size : 5000\n",
      "read : 0.023723587s\n"
     ]
    },
    {
     "data": {
      "text/plain": [
       "1"
      ]
     },
     "execution_count": 4,
     "metadata": {},
     "output_type": "execute_result"
    }
   ],
   "source": [
    "require \"arrow\"\n",
    "require \"time\"\n",
    "require \"csv\"\n",
    "\n",
    "Input = Arrow::MemoryMappedInputStream\n",
    "\n",
    "start_time = Time.now\n",
    "Input.open(\"/dev/shm/pandas.arrow\") do |input|\n",
    "  reader = Arrow::RecordBatchFileReader.new(input)\n",
    "  puts \"batch size : #{reader.get_record_batch(0).count}\"\n",
    "end\n",
    "puts \"read : #{Time.now - start_time}s\"\n",
    " File.delete \"/dev/shm/pandas.arrow\""
   ]
  },
  {
   "cell_type": "code",
   "execution_count": null,
   "metadata": {},
   "outputs": [],
   "source": []
  }
 ],
 "metadata": {
  "kernelspec": {
   "display_name": "Ruby 2.4.1",
   "language": "ruby",
   "name": "ruby"
  },
  "language_info": {
   "file_extension": ".rb",
   "mimetype": "application/x-ruby",
   "name": "ruby",
   "version": "2.4.1"
  }
 },
 "nbformat": 4,
 "nbformat_minor": 2
}
