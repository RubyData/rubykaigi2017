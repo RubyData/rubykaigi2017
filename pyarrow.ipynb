{
 "cells": [
  {
   "cell_type": "code",
   "execution_count": 3,
   "metadata": {},
   "outputs": [
    {
     "name": "stdout",
     "output_type": "stream",
     "text": [
      "write : 0.8009328842163086s\n"
     ]
    }
   ],
   "source": [
    "import pandas as pd\n",
    "import pyarrow as pa\n",
    "from time import time\n",
    "\n",
    "df = pd.DataFrame({\"a\": [\"a\" * i for i in list(range(5000))],\n",
    "                   \"b\": [\"b\" * i for i in list(range(5000))],\n",
    "                   \"c\": [\"c\" * i for i in list(range(5000))]})\n",
    "\n",
    "start_time = time()\n",
    "df.to_csv(\"/dev/shm/test.csv\", header=False)\n",
    "print(\"write : {0}s\".format(time() - start_time))"
   ]
  },
  {
   "cell_type": "code",
   "execution_count": 4,
   "metadata": {},
   "outputs": [
    {
     "name": "stdout",
     "output_type": "stream",
     "text": [
      "write : 0.1390378475189209s\n"
     ]
    }
   ],
   "source": [
    "import pandas as pd\n",
    "import pyarrow as pa\n",
    "import pyarrow.parquet as pq\n",
    "from time import time\n",
    "\n",
    "df = pd.DataFrame({\"a\": [\"a\" * i for i in list(range(5000))],\n",
    "                   \"b\": [\"b\" * i for i in list(range(5000))],\n",
    "                   \"c\": [\"c\" * i for i in list(range(5000))]})\n",
    "start_time = time()\n",
    "table = pa.Table.from_pandas(df)\n",
    "pq.write_table(table, \"/dev/shm/pandas.parquet\")\n",
    "print(\"write : {0}s\".format(time() - start_time))"
   ]
  },
  {
   "cell_type": "code",
   "execution_count": 5,
   "metadata": {},
   "outputs": [
    {
     "name": "stdout",
     "output_type": "stream",
     "text": [
      "write : 0.07749533653259277s\n"
     ]
    }
   ],
   "source": [
    "import pandas as pd\n",
    "import pyarrow as pa\n",
    "from time import time\n",
    "\n",
    "df = pd.DataFrame({\"a\": [\"a\" * i for i in list(range(5000))],\n",
    "                   \"b\": [\"b\" * i for i in list(range(5000))],\n",
    "                   \"c\": [\"c\" * i for i in list(range(5000))]})\n",
    "start_time = time()\n",
    "record_batch = pa.RecordBatch.from_pandas(df)\n",
    "with pa.OSFile(\"/dev/shm/pandas.arrow\", \"wb\") as sink:\n",
    "    schema = record_batch.schema\n",
    "    writer = pa.RecordBatchFileWriter(sink, schema)\n",
    "    writer.write_batch(record_batch)\n",
    "    writer.close()\n",
    "print(\"write : {0}s\".format(time() - start_time))"
   ]
  },
  {
   "cell_type": "code",
   "execution_count": null,
   "metadata": {},
   "outputs": [],
   "source": []
  }
 ],
 "metadata": {
  "kernelspec": {
   "display_name": "Python 3.6.2",
   "language": "python",
   "name": "python3"
  },
  "language_info": {
   "codemirror_mode": {
    "name": "ipython",
    "version": 3
   },
   "file_extension": ".py",
   "mimetype": "text/x-python",
   "name": "python",
   "nbconvert_exporter": "python",
   "pygments_lexer": "ipython3",
   "version": "3.6.2"
  }
 },
 "nbformat": 4,
 "nbformat_minor": 2
}
