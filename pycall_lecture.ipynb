{
 "cells": [
  {
   "cell_type": "markdown",
   "metadata": {
    "slideshow": {
     "slide_type": "slide"
    }
   },
   "source": [
    "# PyCall Lecture\n",
    "\n",
    "2017-09-20 RubyData Workshop in RubyKaigi 2017\n"
   ]
  },
  {
   "cell_type": "markdown",
   "metadata": {
    "slideshow": {
     "slide_type": "slide"
    }
   },
   "source": [
    "# Today's Contents\n",
    "\n",
    "## Outline\n",
    "\n",
    "1. Preparation\n",
    "   1. How to install pycall and related libraries\n",
    "   2. How to install Python for pycall\n",
    "2. Gettings started to pycall\n",
    "   1. What is pycall\n",
    "   2. What can we do by pycall\n",
    "   3. Mechanisms of pycall\n",
    "3. Demonstrations\n",
    "\n",
    "## Goal\n",
    "\n",
    "- Understanding what is and what can we do pycall\n",
    "- Understanding how to reproduce the demonstrations\n",
    "- Joining to Ruby's data science ecosystems"
   ]
  },
  {
   "cell_type": "markdown",
   "metadata": {
    "slideshow": {
     "slide_type": "slide"
    }
   },
   "source": [
    "# Preparation\n",
    "\n",
    "## How to install pycall and related libraries\n",
    "\n",
    "You can simplly install pycall and related libraries by `gem install` command like below.\n",
    "\n",
    "```console\n",
    "$ gem install pycall\n",
    "$ gem install numpy\n",
    "$ gem install matplotlib\n",
    "$ gem install pandas\n",
    "```\n",
    "\n",
    "## How to install Python for pycall\n",
    "\n",
    "Pycall loads the shared library of Python dynamically by using fiddle.\n",
    "So you must install Python's shared library.\n",
    "\n",
    "If you use UNIX-like operating system, there are three ways to install Python with its shared library.\n",
    "\n",
    "1. Using pyenv\n",
    "2. Using Anaconda\n",
    "3. Build from source\n",
    "\n",
    "If you use Windows, the former two ways in this list are available.\n",
    "\n",
    "### Using pyenv\n",
    "\n",
    "Pyenv is Python's version manager.  This was made from rbenv; the similarity of their names isn't just contingency.\n",
    "\n",
    "TBD\n",
    "\n",
    "In this case, you should use `pip` for installing Python libraries, such as numpy and pandas, which you want to use from Ruby.\n",
    "\n",
    "\n",
    "### Using Anaconda\n",
    "\n",
    "https://docs.continuum.io/anaconda/install/\n",
    "\n",
    "TBD\n",
    "\n",
    "### Build from source\n",
    "\n",
    "- https://docs.python.org/3/using/unix.html\n",
    "- https://docs.python.org/2/using/unix.html\n",
    "\n",
    "You have to specify `--enable-shared` for the configure script.\n",
    "You can use `--enable-framework` instead of `--enable-shared` if you use macOS.\n",
    "\n",
    "In this case, you should use `pip` like the case of pyenv, so you need to install `pip` by using `get-pip.py`.  See the above section for the instruction to install `pip`."
   ]
  },
  {
   "cell_type": "markdown",
   "metadata": {
    "slideshow": {
     "slide_type": "slide"
    }
   },
   "source": [
    "# Getting started to pycall"
   ]
  },
  {
   "cell_type": "markdown",
   "metadata": {
    "slideshow": {
     "slide_type": "slide"
    }
   },
   "source": [
    "## What is pycall\n",
    "\n",
    "Pycall consists of two parts.\n",
    "\n",
    "1. Ruby binding of Python's shared library, that is `libpython.so`\n",
    "2. Porotocl translater of object systems between Ruby and Python\n",
    "\n",
    "CPython provides C APIs that you can use to embed Python interpreter into your application.\n",
    "The first part is Ruby binding of that APIs.  In this Python C APIs, objects in Python are represented as pointers.\n",
    "To handle these pointers from Ruby, pycall's fundation is written as a C extension library.\n",
    "\n",
    "Python と Ruby の間には、オブジェックトシステムの差異もある。Pycall の第2番目の部分は、このオブジェクトシステムの違いを吸収するためのプロトコル変換器である。\n",
    "例えば、Python ではオブジェクトに丸括弧をつけるだけでそのオブジェクトを呼び出すことができる。\n",
    "一方 Ruby はそのような構文を持っていないため、`call` メソッドやその糖衣構文である `.()` (ドット丸括弧) を使う必要がある。\n",
    "Pycall はこのような違いを吸収するため、Ruby 側の記法をできるだけ正確に Python の対応する処理に翻訳する。"
   ]
  },
  {
   "cell_type": "markdown",
   "metadata": {
    "slideshow": {
     "slide_type": "slide"
    }
   },
   "source": [
    "## What we can do with pycall"
   ]
  },
  {
   "cell_type": "markdown",
   "metadata": {
    "slideshow": {
     "slide_type": "slide"
    }
   },
   "source": [
    "### Importing Python module"
   ]
  },
  {
   "cell_type": "markdown",
   "metadata": {
    "slideshow": {
     "slide_type": "-"
    }
   },
   "source": [
    "`PyCall.import_module` を使うと Python のモジュールを Ruby 側に持って来れます。やってみましょう。\n",
    "\n",
    "We can take Python modules into Ruby-side by using `PyCall.import_module`.  Let's do that."
   ]
  },
  {
   "cell_type": "code",
   "execution_count": 1,
   "metadata": {
    "slideshow": {
     "slide_type": "-"
    }
   },
   "outputs": [
    {
     "data": {
      "text/plain": [
       "<module 'math' from '/Users/mrkn/.pyenv/versions/3.6.1/Python.framework/Versions/3.6/lib/python3.6/lib-dynload/math.cpython-36m-darwin.so'>"
      ]
     },
     "execution_count": 1,
     "metadata": {},
     "output_type": "execute_result"
    }
   ],
   "source": [
    "require 'pycall'\n",
    "\n",
    "pymath = PyCall.import_module('math')"
   ]
  },
  {
   "cell_type": "markdown",
   "metadata": {},
   "source": [
    "変数 `pymath` が Python の math モジュールを保持しています。この math モジュールは、Ruby オブジェクトで包まれています。この Python オブジェクトを包んでいる Ruby オブジェクトをラッパーオブジェクトと呼びます。\n",
    "\n",
    "The variable `pymath` holds Python math module. This math module is enclosed by a Ruby object. A Ruby object that encloses a Python object like this is called a wrapper object.\n",
    "\n",
    "PyCall はオブジェクトの属性にアクセスするためのメソッドをラッパーオブジェクトに定義します。\n",
    "例えば、Python の `math.pi` は、ここでは `pymath` の `pi` メソッドを呼び出すことでアクセスできます。\n",
    "\n",
    "PyCall defines methods in wrapper objects, that is used for accessing objects' attributes.\n",
    "So we can access Python's `math.pi` by calling `pi` method of the wrapper object in the variable `pymath`."
   ]
  },
  {
   "cell_type": "code",
   "execution_count": 2,
   "metadata": {
    "scrolled": true
   },
   "outputs": [
    {
     "data": {
      "text/plain": [
       "3.141592653589793"
      ]
     },
     "execution_count": 2,
     "metadata": {},
     "output_type": "execute_result"
    }
   ],
   "source": [
    "pymath.pi"
   ]
  },
  {
   "cell_type": "markdown",
   "metadata": {},
   "source": [
    "この値は Ruby の浮動小数点数です。これは、Python の浮動小数点数から自動変換されています。\n",
    "\n",
    "This value is Ruby's Float object that is automatically converted from Python's float object."
   ]
  },
  {
   "cell_type": "code",
   "execution_count": 3,
   "metadata": {},
   "outputs": [
    {
     "data": {
      "text/plain": [
       "Float"
      ]
     },
     "execution_count": 3,
     "metadata": {},
     "output_type": "execute_result"
    }
   ],
   "source": [
    "pymath.pi.class"
   ]
  },
  {
   "cell_type": "markdown",
   "metadata": {},
   "source": [
    "Python オブジェクトのインスタンスメソッドは、Ruby 側でもラッパーオブジェクトのインスタンスメソッドになります。\n",
    "ですから、Python の `math.sin` は、`pymath.sin` になります。"
   ]
  },
  {
   "cell_type": "code",
   "execution_count": 4,
   "metadata": {},
   "outputs": [
    {
     "data": {
      "text/plain": [
       "1.2246467991473532e-16"
      ]
     },
     "execution_count": 4,
     "metadata": {},
     "output_type": "execute_result"
    }
   ],
   "source": [
    "pymath.sin(pymath.pi)"
   ]
  },
  {
   "cell_type": "markdown",
   "metadata": {},
   "source": [
    "ちなみに、Python の `math.pi` の値は Ruby の `Math::PI` の値と等しいです。"
   ]
  },
  {
   "cell_type": "code",
   "execution_count": 5,
   "metadata": {
    "scrolled": true
   },
   "outputs": [
    {
     "data": {
      "text/plain": [
       "true"
      ]
     },
     "execution_count": 5,
     "metadata": {},
     "output_type": "execute_result"
    }
   ],
   "source": [
    "pymath.pi == Math::PI"
   ]
  },
  {
   "cell_type": "markdown",
   "metadata": {},
   "source": [
    "そして、Python の sin と Ruby の sin の結果も等しくなります。"
   ]
  },
  {
   "cell_type": "code",
   "execution_count": 6,
   "metadata": {
    "scrolled": true
   },
   "outputs": [
    {
     "data": {
      "text/plain": [
       "true"
      ]
     },
     "execution_count": 6,
     "metadata": {},
     "output_type": "execute_result"
    }
   ],
   "source": [
    "pymath.sin(pymath.pi) == Math.sin(Math::PI)"
   ]
  },
  {
   "cell_type": "markdown",
   "metadata": {},
   "source": [
    "Ruby の Float オブジェクトは Python の浮動小数点数に自動変換されて Python の関数やメソッドに渡されます。"
   ]
  },
  {
   "cell_type": "code",
   "execution_count": 7,
   "metadata": {
    "scrolled": false
   },
   "outputs": [
    {
     "data": {
      "text/plain": [
       "1.2246467991473532e-16"
      ]
     },
     "execution_count": 7,
     "metadata": {},
     "output_type": "execute_result"
    }
   ],
   "source": [
    "pymath.sin(Math::PI)"
   ]
  },
  {
   "cell_type": "markdown",
   "metadata": {},
   "source": [
    "このように、PyCall は Ruby から Python のオブジェクトをいじるための仕組みが実装されていて、Python のオブジェクトを Ruby から極めて自然に扱えます。"
   ]
  },
  {
   "cell_type": "markdown",
   "metadata": {},
   "source": [
    "`PyCall.import_module` は自分で書いた Python コードに対しても使えます。`PyCall.sys.path` が Python の `sys.path` に相当するので、ここに自分で書いた Python コードがあるディレクトリのパスを追加してあげれば、その中にある Python コードをモジュールとしてインポートできます。\n",
    "\n",
    "例えば、以下の Ruby スクリプトは、同じディレクトリ内にある `foo.py` をインポートします。\n",
    "\n",
    "```ruby\n",
    "require 'pycall'\n",
    "PyCall.sys.path.append('.')  # Append the current directory\n",
    "foo = PyCall.import_module('foo')\n",
    "```"
   ]
  },
  {
   "cell_type": "markdown",
   "metadata": {},
   "source": [
    "### Executing Python code\n",
    "\n",
    "Python で記述したい処理があるが、独立したファイルに置くには小さいと感じる場合、`PyCall.exec` と `PyCall.eval` を使うと Ruby スクリプト中に Python コードを埋め込めます。\n",
    "`PyCall.exec` は、クラス定義などのステートメントを実行するために使います。対して `PyCall.eval` は、式を評価するために用います。"
   ]
  },
  {
   "cell_type": "code",
   "execution_count": 8,
   "metadata": {
    "collapsed": true
   },
   "outputs": [],
   "source": [
    "### TODO:"
   ]
  },
  {
   "cell_type": "markdown",
   "metadata": {
    "collapsed": true
   },
   "source": [
    "## Mechanisms of pycall\n",
    "\n",
    "In this section, we describes the mechanisms how pycall bridges between Ruby and Python.\n",
    "\n",
    "The contents in this section is:\n",
    "\n",
    "- The object system of pycall\n",
    "- The type conversion system of pycall\n",
    "- The amount of the overhead of pycall\n",
    "\n",
    "---\n",
    "\n",
    "- Python の type 型のオブジェクトは他の型のオブジェクトと区別しておきたいので、そのポインタを `PyTypePtr` オブジェクトとして boxing する。\n",
    "- Ruby オブジェクトを Python 側に持って行く際に Python 側に作るオブジェクトも他と区別しておきたいので、そのポインタを `PyRubyPtr` オブジェクトとして boxing する。\n",
    "- いくつかの例外を除き、Python オブジェクトは一般に `PyObjectWrapper` モジュールを extend したオブジェクトによってラップされる。\n",
    "- Python の type 型のオブジェクトに対しては Class オブジェクトによってラップする。\n",
    "- Python の module 型のオブジェクトは Ruby の Module クラスのオブジェクトでラップする。\n",
    "- PyCall は Python の型 (クラス) と Ruby のクラスの対応表を持ち、Python オブジェクトのラッパーオブジェクトを作る際にその対応表の中から対応する Ruby のクラスを探す。\n"
   ]
  },
  {
   "cell_type": "markdown",
   "metadata": {},
   "source": [
    "### Pycall's object system\n",
    "\n",
    "In C language layer, a Python object is represented as a pointer that indicates the address of a `PyObject` structure.\n",
    "Pycall handles such pointers by putting into a `PyCall::PyPtr` object.\n",
    "\n",
    "For example, the following Ruby code,\n",
    "\n",
    "```ruby\n",
    "pymath = PyCall.import_module(\"math\")\n",
    "```\n",
    "\n",
    "that imports Python's math module, acts like the following diagram.\n",
    "\n",
    "![](pymath.png)"
   ]
  },
  {
   "cell_type": "markdown",
   "metadata": {},
   "source": [
    "### Pycall's type system\n",
    "\n",
    "- 型の対応\n",
    "- 自動型変換\n",
    "- register_python_type_mapping"
   ]
  },
  {
   "cell_type": "markdown",
   "metadata": {},
   "source": [
    "### Pycall's overhead"
   ]
  },
  {
   "cell_type": "markdown",
   "metadata": {},
   "source": [
    "上で Python と Ruby で $sin(\\pi)$ の結果が等しいことを確かめました。\n",
    "ここでは、両者の実行速度を比較してみましょう。"
   ]
  },
  {
   "cell_type": "code",
   "execution_count": 16,
   "metadata": {},
   "outputs": [
    {
     "name": "stdout",
     "output_type": "stream",
     "text": [
      "              user     system      total        real\n",
      "ruby:     0.100000   0.010000   0.110000 (  0.104201)\n",
      "python:   0.960000   0.040000   1.000000 (  1.056992)\n"
     ]
    }
   ],
   "source": [
    "require 'benchmark'\n",
    "Benchmark.bm(7) do |x|\n",
    "  x.report(\"ruby:\")   { 1_000_000.times { Math.sin(Math::PI) } }\n",
    "  x.report(\"python:\") { 1_000_000.times { pymath.sin(pymath.pi) } }\n",
    "end\n",
    "nil"
   ]
  },
  {
   "cell_type": "markdown",
   "metadata": {},
   "source": [
    "このように、100万回実行した時の実行時間を比べると、Ruby の `Math.sin(Math::PI)` の方が10倍ほど速いようです。\n",
    "これが pycall によるブリッジ処理のオーバーヘッドです。\n",
    "\n",
    "浮動小数点数の sin 関数のように計算量が小さい場合、pycall のオーバーヘッドは非常に大きな比重を占めます。\n",
    "では、大きな行列同士の積のように計算量が大きい場合はどうなるでしょう？\n",
    "Ruby の ruby-numo と Python の numpy/scipy で BLAS 関数の実行時間を比較した Jupyter notebook があるので確認してみましょう。\n",
    "\n",
    "https://github.com/mrkn/numpy.rb/blob/master/example/benchmarking.ipynb\n",
    "\n",
    "このように、そもそも長い計算時間が必要な処理を呼び出す場合は pycall のオーバーヘッドを気にしなくて良いのです。そして、pycall が必要になる場合のほとんどが、このようにオーバヘッドを気にしなくて良い場合だと思います。"
   ]
  },
  {
   "cell_type": "markdown",
   "metadata": {},
   "source": [
    "# Demonstrations"
   ]
  },
  {
   "cell_type": "markdown",
   "metadata": {},
   "source": [
    "## Reading Data, Calculating PCA, and Visualize the results"
   ]
  },
  {
   "cell_type": "code",
   "execution_count": null,
   "metadata": {
    "collapsed": true
   },
   "outputs": [],
   "source": [
    "require 'numpy'\n",
    "\n",
    "require 'pandas'\n",
    "Pandas.options.display.max_rows = 20\n",
    "\n",
    "require 'matplotlib/iruby'\n",
    "Matplotlib::IRuby.activate"
   ]
  },
  {
   "cell_type": "markdown",
   "metadata": {},
   "source": [
    "CSV ファイルを読んで Pandas のデータフレームにします。"
   ]
  },
  {
   "cell_type": "code",
   "execution_count": 9,
   "metadata": {},
   "outputs": [
    {
     "data": {
      "text/html": [
       "<div>\n",
       "<style>\n",
       "    .dataframe thead tr:only-child th {\n",
       "        text-align: right;\n",
       "    }\n",
       "\n",
       "    .dataframe thead th {\n",
       "        text-align: left;\n",
       "    }\n",
       "\n",
       "    .dataframe tbody tr th {\n",
       "        vertical-align: top;\n",
       "    }\n",
       "</style>\n",
       "<table border=\"1\" class=\"dataframe\">\n",
       "  <thead>\n",
       "    <tr style=\"text-align: right;\">\n",
       "      <th></th>\n",
       "      <th>150</th>\n",
       "      <th>4</th>\n",
       "      <th>setosa</th>\n",
       "      <th>versicolor</th>\n",
       "      <th>virginica</th>\n",
       "    </tr>\n",
       "  </thead>\n",
       "  <tbody>\n",
       "    <tr>\n",
       "      <th>0</th>\n",
       "      <td>5.1</td>\n",
       "      <td>3.5</td>\n",
       "      <td>1.4</td>\n",
       "      <td>0.2</td>\n",
       "      <td>0</td>\n",
       "    </tr>\n",
       "    <tr>\n",
       "      <th>1</th>\n",
       "      <td>4.9</td>\n",
       "      <td>3.0</td>\n",
       "      <td>1.4</td>\n",
       "      <td>0.2</td>\n",
       "      <td>0</td>\n",
       "    </tr>\n",
       "    <tr>\n",
       "      <th>2</th>\n",
       "      <td>4.7</td>\n",
       "      <td>3.2</td>\n",
       "      <td>1.3</td>\n",
       "      <td>0.2</td>\n",
       "      <td>0</td>\n",
       "    </tr>\n",
       "    <tr>\n",
       "      <th>3</th>\n",
       "      <td>4.6</td>\n",
       "      <td>3.1</td>\n",
       "      <td>1.5</td>\n",
       "      <td>0.2</td>\n",
       "      <td>0</td>\n",
       "    </tr>\n",
       "    <tr>\n",
       "      <th>4</th>\n",
       "      <td>5.0</td>\n",
       "      <td>3.6</td>\n",
       "      <td>1.4</td>\n",
       "      <td>0.2</td>\n",
       "      <td>0</td>\n",
       "    </tr>\n",
       "    <tr>\n",
       "      <th>5</th>\n",
       "      <td>5.4</td>\n",
       "      <td>3.9</td>\n",
       "      <td>1.7</td>\n",
       "      <td>0.4</td>\n",
       "      <td>0</td>\n",
       "    </tr>\n",
       "    <tr>\n",
       "      <th>6</th>\n",
       "      <td>4.6</td>\n",
       "      <td>3.4</td>\n",
       "      <td>1.4</td>\n",
       "      <td>0.3</td>\n",
       "      <td>0</td>\n",
       "    </tr>\n",
       "    <tr>\n",
       "      <th>7</th>\n",
       "      <td>5.0</td>\n",
       "      <td>3.4</td>\n",
       "      <td>1.5</td>\n",
       "      <td>0.2</td>\n",
       "      <td>0</td>\n",
       "    </tr>\n",
       "    <tr>\n",
       "      <th>8</th>\n",
       "      <td>4.4</td>\n",
       "      <td>2.9</td>\n",
       "      <td>1.4</td>\n",
       "      <td>0.2</td>\n",
       "      <td>0</td>\n",
       "    </tr>\n",
       "    <tr>\n",
       "      <th>9</th>\n",
       "      <td>4.9</td>\n",
       "      <td>3.1</td>\n",
       "      <td>1.5</td>\n",
       "      <td>0.1</td>\n",
       "      <td>0</td>\n",
       "    </tr>\n",
       "    <tr>\n",
       "      <th>...</th>\n",
       "      <td>...</td>\n",
       "      <td>...</td>\n",
       "      <td>...</td>\n",
       "      <td>...</td>\n",
       "      <td>...</td>\n",
       "    </tr>\n",
       "    <tr>\n",
       "      <th>140</th>\n",
       "      <td>6.7</td>\n",
       "      <td>3.1</td>\n",
       "      <td>5.6</td>\n",
       "      <td>2.4</td>\n",
       "      <td>2</td>\n",
       "    </tr>\n",
       "    <tr>\n",
       "      <th>141</th>\n",
       "      <td>6.9</td>\n",
       "      <td>3.1</td>\n",
       "      <td>5.1</td>\n",
       "      <td>2.3</td>\n",
       "      <td>2</td>\n",
       "    </tr>\n",
       "    <tr>\n",
       "      <th>142</th>\n",
       "      <td>5.8</td>\n",
       "      <td>2.7</td>\n",
       "      <td>5.1</td>\n",
       "      <td>1.9</td>\n",
       "      <td>2</td>\n",
       "    </tr>\n",
       "    <tr>\n",
       "      <th>143</th>\n",
       "      <td>6.8</td>\n",
       "      <td>3.2</td>\n",
       "      <td>5.9</td>\n",
       "      <td>2.3</td>\n",
       "      <td>2</td>\n",
       "    </tr>\n",
       "    <tr>\n",
       "      <th>144</th>\n",
       "      <td>6.7</td>\n",
       "      <td>3.3</td>\n",
       "      <td>5.7</td>\n",
       "      <td>2.5</td>\n",
       "      <td>2</td>\n",
       "    </tr>\n",
       "    <tr>\n",
       "      <th>145</th>\n",
       "      <td>6.7</td>\n",
       "      <td>3.0</td>\n",
       "      <td>5.2</td>\n",
       "      <td>2.3</td>\n",
       "      <td>2</td>\n",
       "    </tr>\n",
       "    <tr>\n",
       "      <th>146</th>\n",
       "      <td>6.3</td>\n",
       "      <td>2.5</td>\n",
       "      <td>5.0</td>\n",
       "      <td>1.9</td>\n",
       "      <td>2</td>\n",
       "    </tr>\n",
       "    <tr>\n",
       "      <th>147</th>\n",
       "      <td>6.5</td>\n",
       "      <td>3.0</td>\n",
       "      <td>5.2</td>\n",
       "      <td>2.0</td>\n",
       "      <td>2</td>\n",
       "    </tr>\n",
       "    <tr>\n",
       "      <th>148</th>\n",
       "      <td>6.2</td>\n",
       "      <td>3.4</td>\n",
       "      <td>5.4</td>\n",
       "      <td>2.3</td>\n",
       "      <td>2</td>\n",
       "    </tr>\n",
       "    <tr>\n",
       "      <th>149</th>\n",
       "      <td>5.9</td>\n",
       "      <td>3.0</td>\n",
       "      <td>5.1</td>\n",
       "      <td>1.8</td>\n",
       "      <td>2</td>\n",
       "    </tr>\n",
       "  </tbody>\n",
       "</table>\n",
       "<p>150 rows × 5 columns</p>\n",
       "</div>"
      ],
      "text/plain": [
       "     150    4  setosa  versicolor  virginica\n",
       "0    5.1  3.5     1.4         0.2          0\n",
       "1    4.9  3.0     1.4         0.2          0\n",
       "2    4.7  3.2     1.3         0.2          0\n",
       "3    4.6  3.1     1.5         0.2          0\n",
       "4    5.0  3.6     1.4         0.2          0\n",
       "5    5.4  3.9     1.7         0.4          0\n",
       "6    4.6  3.4     1.4         0.3          0\n",
       "7    5.0  3.4     1.5         0.2          0\n",
       "8    4.4  2.9     1.4         0.2          0\n",
       "9    4.9  3.1     1.5         0.1          0\n",
       "..   ...  ...     ...         ...        ...\n",
       "140  6.7  3.1     5.6         2.4          2\n",
       "141  6.9  3.1     5.1         2.3          2\n",
       "142  5.8  2.7     5.1         1.9          2\n",
       "143  6.8  3.2     5.9         2.3          2\n",
       "144  6.7  3.3     5.7         2.5          2\n",
       "145  6.7  3.0     5.2         2.3          2\n",
       "146  6.3  2.5     5.0         1.9          2\n",
       "147  6.5  3.0     5.2         2.0          2\n",
       "148  6.2  3.4     5.4         2.3          2\n",
       "149  5.9  3.0     5.1         1.8          2\n",
       "\n",
       "[150 rows x 5 columns]"
      ]
     },
     "execution_count": 9,
     "metadata": {},
     "output_type": "execute_result"
    }
   ],
   "source": [
    "iris = Pandas.read_csv(\"data/iris.csv\", header: 0)"
   ]
  },
  {
   "cell_type": "markdown",
   "metadata": {},
   "source": [
    "このように 150 x 5 の表が読み込まれました。`virginica` カラムの値がラベルを意味するので、この値に対して色を割り当て、PCA した結果のち重要な2次元を取り出して可視化してみます。\n",
    "\n",
    "まず、データフレームの 0〜3 列目を取り出し、numpy の配列に変換します。"
   ]
  },
  {
   "cell_type": "code",
   "execution_count": 10,
   "metadata": {
    "scrolled": true
   },
   "outputs": [
    {
     "data": {
      "text/plain": [
       "array([[ 5.1,  3.5,  1.4,  0.2],\n",
       "       [ 4.9,  3. ,  1.4,  0.2],\n",
       "       [ 4.7,  3.2,  1.3,  0.2],\n",
       "       [ 4.6,  3.1,  1.5,  0.2],\n",
       "       [ 5. ,  3.6,  1.4,  0.2],\n",
       "       [ 5.4,  3.9,  1.7,  0.4],\n",
       "       [ 4.6,  3.4,  1.4,  0.3],\n",
       "       [ 5. ,  3.4,  1.5,  0.2],\n",
       "       [ 4.4,  2.9,  1.4,  0.2],\n",
       "       [ 4.9,  3.1,  1.5,  0.1],\n",
       "       [ 5.4,  3.7,  1.5,  0.2],\n",
       "       [ 4.8,  3.4,  1.6,  0.2],\n",
       "       [ 4.8,  3. ,  1.4,  0.1],\n",
       "       [ 4.3,  3. ,  1.1,  0.1],\n",
       "       [ 5.8,  4. ,  1.2,  0.2],\n",
       "       [ 5.7,  4.4,  1.5,  0.4],\n",
       "       [ 5.4,  3.9,  1.3,  0.4],\n",
       "       [ 5.1,  3.5,  1.4,  0.3],\n",
       "       [ 5.7,  3.8,  1.7,  0.3],\n",
       "       [ 5.1,  3.8,  1.5,  0.3],\n",
       "       [ 5.4,  3.4,  1.7,  0.2],\n",
       "       [ 5.1,  3.7,  1.5,  0.4],\n",
       "       [ 4.6,  3.6,  1. ,  0.2],\n",
       "       [ 5.1,  3.3,  1.7,  0.5],\n",
       "       [ 4.8,  3.4,  1.9,  0.2],\n",
       "       [ 5. ,  3. ,  1.6,  0.2],\n",
       "       [ 5. ,  3.4,  1.6,  0.4],\n",
       "       [ 5.2,  3.5,  1.5,  0.2],\n",
       "       [ 5.2,  3.4,  1.4,  0.2],\n",
       "       [ 4.7,  3.2,  1.6,  0.2],\n",
       "       [ 4.8,  3.1,  1.6,  0.2],\n",
       "       [ 5.4,  3.4,  1.5,  0.4],\n",
       "       [ 5.2,  4.1,  1.5,  0.1],\n",
       "       [ 5.5,  4.2,  1.4,  0.2],\n",
       "       [ 4.9,  3.1,  1.5,  0.1],\n",
       "       [ 5. ,  3.2,  1.2,  0.2],\n",
       "       [ 5.5,  3.5,  1.3,  0.2],\n",
       "       [ 4.9,  3.1,  1.5,  0.1],\n",
       "       [ 4.4,  3. ,  1.3,  0.2],\n",
       "       [ 5.1,  3.4,  1.5,  0.2],\n",
       "       [ 5. ,  3.5,  1.3,  0.3],\n",
       "       [ 4.5,  2.3,  1.3,  0.3],\n",
       "       [ 4.4,  3.2,  1.3,  0.2],\n",
       "       [ 5. ,  3.5,  1.6,  0.6],\n",
       "       [ 5.1,  3.8,  1.9,  0.4],\n",
       "       [ 4.8,  3. ,  1.4,  0.3],\n",
       "       [ 5.1,  3.8,  1.6,  0.2],\n",
       "       [ 4.6,  3.2,  1.4,  0.2],\n",
       "       [ 5.3,  3.7,  1.5,  0.2],\n",
       "       [ 5. ,  3.3,  1.4,  0.2],\n",
       "       [ 7. ,  3.2,  4.7,  1.4],\n",
       "       [ 6.4,  3.2,  4.5,  1.5],\n",
       "       [ 6.9,  3.1,  4.9,  1.5],\n",
       "       [ 5.5,  2.3,  4. ,  1.3],\n",
       "       [ 6.5,  2.8,  4.6,  1.5],\n",
       "       [ 5.7,  2.8,  4.5,  1.3],\n",
       "       [ 6.3,  3.3,  4.7,  1.6],\n",
       "       [ 4.9,  2.4,  3.3,  1. ],\n",
       "       [ 6.6,  2.9,  4.6,  1.3],\n",
       "       [ 5.2,  2.7,  3.9,  1.4],\n",
       "       [ 5. ,  2. ,  3.5,  1. ],\n",
       "       [ 5.9,  3. ,  4.2,  1.5],\n",
       "       [ 6. ,  2.2,  4. ,  1. ],\n",
       "       [ 6.1,  2.9,  4.7,  1.4],\n",
       "       [ 5.6,  2.9,  3.6,  1.3],\n",
       "       [ 6.7,  3.1,  4.4,  1.4],\n",
       "       [ 5.6,  3. ,  4.5,  1.5],\n",
       "       [ 5.8,  2.7,  4.1,  1. ],\n",
       "       [ 6.2,  2.2,  4.5,  1.5],\n",
       "       [ 5.6,  2.5,  3.9,  1.1],\n",
       "       [ 5.9,  3.2,  4.8,  1.8],\n",
       "       [ 6.1,  2.8,  4. ,  1.3],\n",
       "       [ 6.3,  2.5,  4.9,  1.5],\n",
       "       [ 6.1,  2.8,  4.7,  1.2],\n",
       "       [ 6.4,  2.9,  4.3,  1.3],\n",
       "       [ 6.6,  3. ,  4.4,  1.4],\n",
       "       [ 6.8,  2.8,  4.8,  1.4],\n",
       "       [ 6.7,  3. ,  5. ,  1.7],\n",
       "       [ 6. ,  2.9,  4.5,  1.5],\n",
       "       [ 5.7,  2.6,  3.5,  1. ],\n",
       "       [ 5.5,  2.4,  3.8,  1.1],\n",
       "       [ 5.5,  2.4,  3.7,  1. ],\n",
       "       [ 5.8,  2.7,  3.9,  1.2],\n",
       "       [ 6. ,  2.7,  5.1,  1.6],\n",
       "       [ 5.4,  3. ,  4.5,  1.5],\n",
       "       [ 6. ,  3.4,  4.5,  1.6],\n",
       "       [ 6.7,  3.1,  4.7,  1.5],\n",
       "       [ 6.3,  2.3,  4.4,  1.3],\n",
       "       [ 5.6,  3. ,  4.1,  1.3],\n",
       "       [ 5.5,  2.5,  4. ,  1.3],\n",
       "       [ 5.5,  2.6,  4.4,  1.2],\n",
       "       [ 6.1,  3. ,  4.6,  1.4],\n",
       "       [ 5.8,  2.6,  4. ,  1.2],\n",
       "       [ 5. ,  2.3,  3.3,  1. ],\n",
       "       [ 5.6,  2.7,  4.2,  1.3],\n",
       "       [ 5.7,  3. ,  4.2,  1.2],\n",
       "       [ 5.7,  2.9,  4.2,  1.3],\n",
       "       [ 6.2,  2.9,  4.3,  1.3],\n",
       "       [ 5.1,  2.5,  3. ,  1.1],\n",
       "       [ 5.7,  2.8,  4.1,  1.3],\n",
       "       [ 6.3,  3.3,  6. ,  2.5],\n",
       "       [ 5.8,  2.7,  5.1,  1.9],\n",
       "       [ 7.1,  3. ,  5.9,  2.1],\n",
       "       [ 6.3,  2.9,  5.6,  1.8],\n",
       "       [ 6.5,  3. ,  5.8,  2.2],\n",
       "       [ 7.6,  3. ,  6.6,  2.1],\n",
       "       [ 4.9,  2.5,  4.5,  1.7],\n",
       "       [ 7.3,  2.9,  6.3,  1.8],\n",
       "       [ 6.7,  2.5,  5.8,  1.8],\n",
       "       [ 7.2,  3.6,  6.1,  2.5],\n",
       "       [ 6.5,  3.2,  5.1,  2. ],\n",
       "       [ 6.4,  2.7,  5.3,  1.9],\n",
       "       [ 6.8,  3. ,  5.5,  2.1],\n",
       "       [ 5.7,  2.5,  5. ,  2. ],\n",
       "       [ 5.8,  2.8,  5.1,  2.4],\n",
       "       [ 6.4,  3.2,  5.3,  2.3],\n",
       "       [ 6.5,  3. ,  5.5,  1.8],\n",
       "       [ 7.7,  3.8,  6.7,  2.2],\n",
       "       [ 7.7,  2.6,  6.9,  2.3],\n",
       "       [ 6. ,  2.2,  5. ,  1.5],\n",
       "       [ 6.9,  3.2,  5.7,  2.3],\n",
       "       [ 5.6,  2.8,  4.9,  2. ],\n",
       "       [ 7.7,  2.8,  6.7,  2. ],\n",
       "       [ 6.3,  2.7,  4.9,  1.8],\n",
       "       [ 6.7,  3.3,  5.7,  2.1],\n",
       "       [ 7.2,  3.2,  6. ,  1.8],\n",
       "       [ 6.2,  2.8,  4.8,  1.8],\n",
       "       [ 6.1,  3. ,  4.9,  1.8],\n",
       "       [ 6.4,  2.8,  5.6,  2.1],\n",
       "       [ 7.2,  3. ,  5.8,  1.6],\n",
       "       [ 7.4,  2.8,  6.1,  1.9],\n",
       "       [ 7.9,  3.8,  6.4,  2. ],\n",
       "       [ 6.4,  2.8,  5.6,  2.2],\n",
       "       [ 6.3,  2.8,  5.1,  1.5],\n",
       "       [ 6.1,  2.6,  5.6,  1.4],\n",
       "       [ 7.7,  3. ,  6.1,  2.3],\n",
       "       [ 6.3,  3.4,  5.6,  2.4],\n",
       "       [ 6.4,  3.1,  5.5,  1.8],\n",
       "       [ 6. ,  3. ,  4.8,  1.8],\n",
       "       [ 6.9,  3.1,  5.4,  2.1],\n",
       "       [ 6.7,  3.1,  5.6,  2.4],\n",
       "       [ 6.9,  3.1,  5.1,  2.3],\n",
       "       [ 5.8,  2.7,  5.1,  1.9],\n",
       "       [ 6.8,  3.2,  5.9,  2.3],\n",
       "       [ 6.7,  3.3,  5.7,  2.5],\n",
       "       [ 6.7,  3. ,  5.2,  2.3],\n",
       "       [ 6.3,  2.5,  5. ,  1.9],\n",
       "       [ 6.5,  3. ,  5.2,  2. ],\n",
       "       [ 6.2,  3.4,  5.4,  2.3],\n",
       "       [ 5.9,  3. ,  5.1,  1.8]])"
      ]
     },
     "execution_count": 10,
     "metadata": {},
     "output_type": "execute_result"
    }
   ],
   "source": [
    "x = Numpy.asarray(iris.iloc[0..-1, 0..3])"
   ]
  },
  {
   "cell_type": "markdown",
   "metadata": {},
   "source": [
    "次に、PCA を計算する関数 `pca` を定義します。\n",
    "PCA は平均を引き、特異値分解をして、元のベクトルと特異ベクトル行列を掛け算することで計算できます。"
   ]
  },
  {
   "cell_type": "code",
   "execution_count": 11,
   "metadata": {},
   "outputs": [
    {
     "data": {
      "text/plain": [
       "array([[ -8.15149049e-01,   2.43830403e+00,   6.74472970e-01,\n",
       "          4.97388864e-01],\n",
       "       [ -8.07830919e-01,   2.24181683e+00,   1.13155253e+00,\n",
       "          7.03343955e-01],\n",
       "       [ -6.50373495e-01,   2.49425495e+00,   1.09787495e+00,\n",
       "          7.21998022e-01],\n",
       "       [ -5.03955030e-01,   2.34273982e+00,   1.20913595e+00,\n",
       "          6.65202022e-01],\n",
       "       [ -7.11449148e-01,   2.53077185e+00,   6.54898189e-01,\n",
       "          4.79700953e-01],\n",
       "       [ -7.11648955e-01,   2.27556728e+00,   1.24397279e-01,\n",
       "          2.96836588e-01],\n",
       "       [ -4.35802624e-01,   2.54158492e+00,   9.53860831e-01,\n",
       "          6.90706663e-01],\n",
       "       [ -7.18672962e-01,   2.35429140e+00,   7.91205955e-01,\n",
       "          4.94622753e-01],\n",
       "       [ -4.60829990e-01,   2.37722204e+00,   1.45901787e+00,\n",
       "          8.21759468e-01],\n",
       "       [ -7.61650941e-01,   2.26092763e+00,   1.10326815e+00,\n",
       "          5.39935934e-01],\n",
       "       [ -9.33390895e-01,   2.36584298e+00,   3.73275957e-01,\n",
       "          3.24043484e-01],\n",
       "       [ -5.18496974e-01,   2.36274657e+00,   8.88364160e-01,\n",
       "          4.74168731e-01],\n",
       "       [ -7.65059610e-01,   2.31191999e+00,   1.23094510e+00,\n",
       "          6.45229602e-01],\n",
       "       [ -5.39302718e-01,   2.70432167e+00,   1.50393652e+00,\n",
       "          8.91258939e-01],\n",
       "       [ -1.29793596e+00,   2.57990205e+00,  -2.82380939e-02,\n",
       "          3.15553883e-01],\n",
       "       [ -8.93968646e-01,   2.56908065e+00,  -3.73053409e-01,\n",
       "          1.82153342e-01],\n",
       "       [ -9.11418467e-01,   2.54557728e+00,   1.46285209e-01,\n",
       "          5.12956146e-01],\n",
       "       [ -7.82803553e-01,   2.40617971e+00,   6.26395488e-01,\n",
       "          5.72291150e-01],\n",
       "       [ -9.97927962e-01,   2.13926612e+00,   8.94193543e-02,\n",
       "          2.06046346e-01],\n",
       "       [ -6.47111888e-01,   2.50214414e+00,   4.08253882e-01,\n",
       "          4.14833727e-01],\n",
       "       [ -9.19255426e-01,   2.06737105e+00,   5.75001615e-01,\n",
       "          3.19411239e-01],\n",
       "       [ -6.43349488e-01,   2.41553084e+00,   4.31066274e-01,\n",
       "          5.24211858e-01],\n",
       "       [ -6.10751440e-01,   2.95269719e+00,   8.82046494e-01,\n",
       "          7.62972245e-01],\n",
       "       [ -6.25451620e-01,   2.03044562e+00,   6.55604325e-01,\n",
       "          6.28957744e-01],\n",
       "       [ -3.68669840e-01,   2.16023907e+00,   8.71948213e-01,\n",
       "          3.12079063e-01],\n",
       "       [ -7.83062968e-01,   2.06883299e+00,   1.06929347e+00,\n",
       "          5.78496242e-01],\n",
       "       [ -6.04039592e-01,   2.22254025e+00,   6.89579009e-01,\n",
       "          5.90397436e-01],\n",
       "       [ -8.40323476e-01,   2.33282270e+00,   6.17685893e-01,\n",
       "          4.26571041e-01],\n",
       "       [ -9.18848950e-01,   2.34583622e+00,   6.94047750e-01,\n",
       "          5.15076775e-01],\n",
       "       [ -5.00546361e-01,   2.29174746e+00,   1.08145900e+00,\n",
       "          5.59908354e-01],\n",
       "       [ -6.04246262e-01,   2.19927964e+00,   1.10103378e+00,\n",
       "          5.77596265e-01],\n",
       "       [ -9.54449191e-01,   2.13812740e+00,   4.89790617e-01,\n",
       "          5.77275590e-01],\n",
       "       [ -7.01170396e-01,   2.69188087e+00,   2.40424128e-01,\n",
       "          1.44813686e-01],\n",
       "       [ -9.15534598e-01,   2.66781152e+00,  -2.70165267e-02,\n",
       "          1.88906216e-01],\n",
       "       [ -7.61650941e-01,   2.26092763e+00,   1.10326815e+00,\n",
       "          5.39935934e-01],\n",
       "       [ -9.25666288e-01,   2.44782094e+00,   9.49401652e-01,\n",
       "          7.25664110e-01],\n",
       "       [ -1.16555865e+00,   2.35389119e+00,   4.74684577e-01,\n",
       "          4.84267018e-01],\n",
       "       [ -7.61650941e-01,   2.26092763e+00,   1.10326815e+00,\n",
       "          5.39935934e-01],\n",
       "       [ -4.82189272e-01,   2.49921351e+00,   1.39359998e+00,\n",
       "          8.41313513e-01],\n",
       "       [ -7.93789767e-01,   2.31631256e+00,   7.39890861e-01,\n",
       "          4.77834819e-01],\n",
       "       [ -7.57629126e-01,   2.51166105e+00,   6.83182564e-01,\n",
       "          6.43108973e-01],\n",
       "       [ -7.25042253e-01,   2.04768752e+00,   1.79043653e+00,\n",
       "          1.14075878e+00],\n",
       "       [ -4.25023080e-01,   2.60819146e+00,   1.25182023e+00,\n",
       "          7.72361823e-01],\n",
       "       [ -5.10765505e-01,   2.21278058e+00,   5.22534171e-01,\n",
       "          7.05726164e-01],\n",
       "       [ -4.14996880e-01,   2.20000982e+00,   3.38288470e-01,\n",
       "          2.73616456e-01],\n",
       "       [ -7.00368618e-01,   2.24767134e+00,   1.13479014e+00,\n",
       "          7.95034175e-01],\n",
       "       [ -6.29515005e-01,   2.46676596e+00,   4.50859381e-01,\n",
       "          2.85901551e-01],\n",
       "       [ -5.25314312e-01,   2.46473129e+00,   1.14371806e+00,\n",
       "          6.84756066e-01],\n",
       "       [ -8.58274089e-01,   2.40382181e+00,   4.24591051e-01,\n",
       "          3.40831418e-01],\n",
       "       [ -7.97198436e-01,   2.36730492e+00,   8.67567812e-01,\n",
       "          5.83128487e-01],\n",
       "       [ -2.91873208e-01,  -1.05983513e+00,  -8.45349393e-01,\n",
       "         -6.02313255e-01],\n",
       "       [  9.12883618e-02,  -7.29081439e-01,  -5.74592347e-01,\n",
       "         -3.18623588e-01],\n",
       "       [ -1.13109247e-01,  -1.24347459e+00,  -7.82165872e-01,\n",
       "         -5.84206969e-01],\n",
       "       [  1.95688862e-01,  -4.75911548e-01,   6.48767243e-01,\n",
       "          2.63095292e-01],\n",
       "       [ -4.82184490e-02,  -1.05251868e+00,  -3.47819926e-01,\n",
       "         -2.51538032e-01],\n",
       "       [  4.38082622e-01,  -6.16936838e-01,   1.64327770e-01,\n",
       "         -2.13009245e-01],\n",
       "       [  3.27218515e-01,  -8.03742948e-01,  -6.53188575e-01,\n",
       "         -3.69468991e-01],\n",
       "       [  2.28339655e-01,   3.75340910e-01,   1.06830425e+00,\n",
       "          4.82849416e-01],\n",
       "       [ -1.59443150e-01,  -9.71759891e-01,  -3.73869930e-01,\n",
       "         -4.52606383e-01],\n",
       "       [  5.17774779e-01,  -1.08640961e-01,   4.76547527e-01,\n",
       "          3.04487890e-01],\n",
       "       [  1.38775222e-01,  -1.55988267e-02,   1.28960469e+00,\n",
       "          4.95905082e-01],\n",
       "       [  2.59879061e-01,  -4.45657711e-01,  -1.59821182e-01,\n",
       "         -3.64256190e-03],\n",
       "       [ -3.05514747e-01,  -6.23921736e-01,   6.07314094e-01,\n",
       "         -1.10753907e-02],\n",
       "       [  2.98428749e-01,  -8.81492530e-01,  -1.70843926e-01,\n",
       "         -3.47794317e-01],\n",
       "       [  9.23011205e-02,   8.30534639e-02,   1.94000832e-01,\n",
       "          2.55571847e-01],\n",
       "       [ -2.44933023e-01,  -7.97880103e-01,  -6.04098290e-01,\n",
       "         -3.55383941e-01],\n",
       "       [  6.35056610e-01,  -5.34228697e-01,  -2.22918488e-02,\n",
       "         -1.15368429e-01],\n",
       "       [  3.75767212e-02,  -3.43021684e-01,   3.50022927e-01,\n",
       "         -2.03908636e-01],\n",
       "       [ -4.43089875e-02,  -1.19801352e+00,   2.36936585e-01,\n",
       "          5.97107264e-02],\n",
       "       [  6.31048792e-02,  -2.73161288e-01,   5.57299346e-01,\n",
       "          8.15809857e-02],\n",
       "       [  7.13736009e-01,  -8.38067723e-01,  -4.78665272e-01,\n",
       "         -1.72066728e-01],\n",
       "       [ -1.12096489e-01,  -4.31339690e-01,  -1.35726921e-02,\n",
       "         -1.00115339e-02],\n",
       "       [  1.66093007e-01,  -1.34253543e+00,  -4.89360625e-02,\n",
       "         -2.76624298e-01],\n",
       "       [  2.05154662e-01,  -8.71732859e-01,  -3.79908794e-03,\n",
       "         -4.63123045e-01],\n",
       "       [ -1.59036674e-01,  -6.93294721e-01,  -2.54823795e-01,\n",
       "         -2.56940848e-01],\n",
       "       [ -1.98399314e-01,  -8.14390241e-01,  -4.81893322e-01,\n",
       "         -3.04120163e-01],\n",
       "       [ -2.06029604e-01,  -1.26933586e+00,  -4.64631690e-01,\n",
       "         -4.84863898e-01],\n",
       "       [  1.23174637e-01,  -1.35375704e+00,  -7.10272756e-01,\n",
       "         -4.20380574e-01],\n",
       "       [  3.06006294e-01,  -7.40633019e-01,  -1.56662349e-01,\n",
       "         -1.48044319e-01],\n",
       "       [ -2.15543838e-01,   4.54831699e-02,   5.05059790e-01,\n",
       "          1.71534478e-01],\n",
       "       [  5.96962102e-02,  -2.22168928e-01,   6.84976297e-01,\n",
       "          1.86874653e-01],\n",
       "       [ -2.25916636e-02,  -1.22542105e-01,   7.38525761e-01,\n",
       "          1.66002256e-01],\n",
       "       [  2.38295677e-03,  -2.72265334e-01,   2.64811928e-01,\n",
       "          5.39557151e-02],\n",
       "       [  5.80839866e-01,  -1.28675029e+00,  -9.57919772e-02,\n",
       "         -3.28369679e-01],\n",
       "       [  7.85290221e-01,  -4.58271024e-01,   8.03383387e-02,\n",
       "         -8.17925610e-02],\n",
       "       [  4.81267270e-01,  -5.00312465e-01,  -5.59189203e-01,\n",
       "         -2.45521256e-01],\n",
       "       [ -6.27603932e-02,  -1.03251192e+00,  -6.68591719e-01,\n",
       "         -4.42571323e-01],\n",
       "       [ -2.05476066e-01,  -1.04975224e+00,   2.16358563e-01,\n",
       "         -8.73277351e-02],\n",
       "       [  3.70596107e-01,  -1.99970055e-01,   9.57510450e-02,\n",
       "         -4.90534438e-02],\n",
       "       [  2.52855054e-01,  -3.66933597e-01,   5.06987494e-01,\n",
       "          1.94143603e-01],\n",
       "       [  4.48862166e-01,  -5.50330293e-01,   4.62287171e-01,\n",
       "         -1.31354085e-01],\n",
       "       [  2.77069467e-01,  -7.59501056e-01,  -2.36261818e-01,\n",
       "         -3.28240273e-01],\n",
       "       [  2.37422389e-02,  -3.94256808e-01,   3.30229820e-01,\n",
       "          3.44016705e-02],\n",
       "       [  1.24639754e-01,   2.82873098e-01,   1.08787903e+00,\n",
       "          5.00537327e-01],\n",
       "       [  3.34789197e-01,  -4.30939480e-01,   3.02948686e-01,\n",
       "          3.44200930e-04],\n",
       "       [  3.13076184e-01,  -2.73327067e-01,   8.70414506e-02,\n",
       "         -1.94773553e-01],\n",
       "       [  3.16838584e-01,  -3.59940366e-01,   1.09853843e-01,\n",
       "         -8.53954222e-02],\n",
       "       [ -8.80306361e-03,  -6.17337048e-01,  -1.52193608e-01,\n",
       "         -2.23364980e-01],\n",
       "       [ -1.07924979e-02,   5.24255385e-01,   8.63122657e-01,\n",
       "          6.51789658e-01],\n",
       "       [  2.38313110e-01,  -3.46926842e-01,   1.86215700e-01,\n",
       "          3.11031179e-03],\n",
       "       [  1.26757889e+00,  -1.97039434e+00,  -1.15702168e+00,\n",
       "         -3.97736976e-01],\n",
       "       [  8.28109964e-01,  -1.30716558e+00,  -1.37394235e-01,\n",
       "         -7.00869528e-02],\n",
       "       [  4.01570802e-01,  -2.24169217e+00,  -1.15709090e+00,\n",
       "         -6.74192167e-01],\n",
       "       [  7.27058525e-01,  -1.69346999e+00,  -5.15031884e-01,\n",
       "         -5.68030043e-01],\n",
       "       [  8.34674750e-01,  -1.97844098e+00,  -8.91805838e-01,\n",
       "         -4.44532389e-01],\n",
       "       [  3.75583423e-01,  -2.90410385e+00,  -1.45197025e+00,\n",
       "         -1.13634106e+00],\n",
       "       [  1.08264976e+00,  -6.05070365e-01,   5.95208216e-01,\n",
       "          3.24330903e-01],\n",
       "       [  3.25487121e-01,  -2.54577585e+00,  -1.06648670e+00,\n",
       "         -1.11411861e+00],\n",
       "       [  4.12143677e-01,  -2.19834623e+00,  -4.47676726e-01,\n",
       "         -6.05338178e-01],\n",
       "       [  7.27219312e-01,  -2.21623945e+00,  -1.83699913e+00,\n",
       "         -7.06285803e-01],\n",
       "       [  4.77553304e-01,  -1.33269689e+00,  -8.99126746e-01,\n",
       "         -2.85079426e-01],\n",
       "       [  4.77293890e-01,  -1.67004360e+00,  -4.56228763e-01,\n",
       "         -2.78874334e-01],\n",
       "       [  4.27151705e-01,  -1.85774567e+00,  -9.81257690e-01,\n",
       "         -4.07708809e-01],\n",
       "       [  8.28463695e-01,  -1.34278652e+00,   1.30951081e-02,\n",
       "          1.44584846e-01],\n",
       "       [  1.01842054e+00,  -1.41329823e+00,  -4.48671519e-01,\n",
       "          2.69948634e-01],\n",
       "       [  7.49591353e-01,  -1.52609602e+00,  -1.00298806e+00,\n",
       "         -1.51644412e-01],\n",
       "       [  5.55465633e-01,  -1.64743619e+00,  -6.83079963e-01,\n",
       "         -5.82051866e-01],\n",
       "       [  6.11419259e-01,  -2.60579770e+00,  -2.12395380e+00,\n",
       "         -1.40806336e+00],\n",
       "       [  4.00652360e-01,  -3.42679473e+00,  -1.33229675e+00,\n",
       "         -1.02751071e+00],\n",
       "       [  3.55636513e-01,  -1.45956834e+00,   3.12206860e-01,\n",
       "         -1.76862852e-01],\n",
       "       [  5.73776840e-01,  -1.98600020e+00,  -1.28145146e+00,\n",
       "         -4.51703638e-01],\n",
       "       [  9.39387410e-01,  -1.07383826e+00,  -1.42787439e-01,\n",
       "          1.11975135e-01],\n",
       "       [  2.60897308e-01,  -3.08643881e+00,  -1.31890009e+00,\n",
       "         -1.21310948e+00],\n",
       "       [  3.20295687e-01,  -1.32993045e+00,  -3.34948257e-01,\n",
       "         -1.20869129e-01],\n",
       "       [  6.87902554e-01,  -1.79130490e+00,  -1.15355618e+00,\n",
       "         -6.02408188e-01],\n",
       "       [  3.36526079e-01,  -2.14182259e+00,  -1.21142528e+00,\n",
       "         -1.03866854e+00],\n",
       "       [  3.74053210e-01,  -1.16996014e+00,  -3.49051055e-01,\n",
       "         -8.45271508e-02],\n",
       "       [  5.56278585e-01,  -1.09050585e+00,  -4.44987693e-01,\n",
       "         -1.90720796e-01],\n",
       "       [  7.20395111e-01,  -1.88231077e+00,  -6.39689548e-01,\n",
       "         -3.25635274e-01],\n",
       "       [  1.14784140e-01,  -2.05154689e+00,  -9.62546603e-01,\n",
       "         -1.01146164e+00],\n",
       "       [  1.54247959e-01,  -2.53536298e+00,  -1.08404543e+00,\n",
       "         -9.13468630e-01],\n",
       "       [  2.46667523e-01,  -2.41499923e+00,  -2.11401308e+00,\n",
       "         -1.42935413e+00],\n",
       "       [  7.52740607e-01,  -1.91443509e+00,  -6.87767030e-01,\n",
       "         -2.50732988e-01],\n",
       "       [  3.51727051e-01,  -1.31407350e+00,  -2.72549651e-01,\n",
       "         -4.88111611e-01],\n",
       "       [  6.62160864e-01,  -1.65248195e+00,  -7.42214536e-03,\n",
       "         -7.30635787e-01],\n",
       "       [  1.15445719e-01,  -2.66881884e+00,  -1.57208039e+00,\n",
       "         -7.33174976e-01],\n",
       "       [  1.06404698e+00,  -1.61377105e+00,  -1.15794615e+00,\n",
       "         -2.90995550e-01],\n",
       "       [  6.59165534e-01,  -1.55496837e+00,  -7.02654744e-01,\n",
       "         -5.99739777e-01],\n",
       "       [  5.81453012e-01,  -9.85024511e-01,  -3.88200617e-01,\n",
       "         -1.19902973e-01],\n",
       "       [  3.30675618e-01,  -1.77373303e+00,  -1.09799068e+00,\n",
       "         -4.04942698e-01],\n",
       "       [  6.77830471e-01,  -1.92915332e+00,  -1.15053690e+00,\n",
       "         -2.54719751e-01],\n",
       "       [  2.45539475e-01,  -1.63547418e+00,  -1.17772969e+00,\n",
       "         -9.30484578e-02],\n",
       "       [  8.28109964e-01,  -1.30716558e+00,  -1.37394235e-01,\n",
       "         -7.00869528e-02],\n",
       "       [  7.48778401e-01,  -2.08302636e+00,  -1.24108033e+00,\n",
       "         -5.42975483e-01],\n",
       "       [  8.17284537e-01,  -1.91980219e+00,  -1.34586611e+00,\n",
       "         -3.02799043e-01],\n",
       "       [  4.17132368e-01,  -1.68150798e+00,  -1.00968161e+00,\n",
       "         -7.90266349e-02],\n",
       "       [  3.45417369e-01,  -1.53853522e+00,  -2.46717972e-01,\n",
       "         -3.10450429e-02],\n",
       "       [  4.70329490e-01,  -1.50917734e+00,  -7.62818979e-01,\n",
       "         -2.70157626e-01],\n",
       "       [  1.00693353e+00,  -1.40866289e+00,  -1.04760961e+00,\n",
       "         -2.41050123e-01],\n",
       "       [  8.06396951e-01,  -1.14955317e+00,  -3.53301471e-01,\n",
       "         -2.65204707e-01]])"
      ]
     },
     "execution_count": 11,
     "metadata": {},
     "output_type": "execute_result"
    }
   ],
   "source": [
    "def pca(x)\n",
    "  x_bar = x - Numpy.mean(x, 0)\n",
    "  u, s, v = *Numpy.linalg.svd(x)\n",
    "  x_bar.dot v\n",
    "end\n",
    "\n",
    "x_pca = pca(x)"
   ]
  },
  {
   "cell_type": "markdown",
   "metadata": {},
   "source": [
    "PCA の結果である `x_pca` を matplotlib の scatter plot で可視化します。"
   ]
  },
  {
   "cell_type": "code",
   "execution_count": 12,
   "metadata": {},
   "outputs": [
    {
     "data": {
      "image/png": "[encoded data removed]",
      "text/plain": [
       "<matplotlib.figure.Figure object at 0x1119b2d68>"
      ]
     },
     "execution_count": 12,
     "metadata": {},
     "output_type": "execute_result"
    },
    {
     "data": {
      "text/plain": [
       "<matplotlib.collections.PathCollection object at 0x111a48d68>"
      ]
     },
     "execution_count": 12,
     "metadata": {},
     "output_type": "execute_result"
    }
   ],
   "source": [
    "plt = Matplotlib::Pyplot\n",
    "spices = iris[:virginica]\n",
    "colors = spices.tolist.map {|s| \"C#{s}\" }\n",
    "plt.scatter(x_pca[0..-1, 0], x_pca[0..-1, 1], c: colors)"
   ]
  },
  {
   "cell_type": "markdown",
   "metadata": {},
   "source": [
    "## Visualize Benchmarking Results\n",
    "\n",
    "Ruby で計算したベンチマークの結果を seaborn ライブラリを使って棒グラフにします。\n",
    "\n",
    "まずはベンチマークの結果を作るコードです。ここでは、配列の合計を求める処理を `Array#inject`、`while` ループ、`Array#sum`、`Enumerable#sum` の4つの手法でそれぞれ計算する時間を測定しています。"
   ]
  },
  {
   "cell_type": "code",
   "execution_count": 13,
   "metadata": {},
   "outputs": [
    {
     "data": {
      "text/plain": [
       "100"
      ]
     },
     "execution_count": 13,
     "metadata": {},
     "output_type": "execute_result"
    }
   ],
   "source": [
    "require 'benchmark'\n",
    "\n",
    "N, L = 100, 10_000\n",
    "ary = Array.new(L) { rand }\n",
    "methods, times = [], []\n",
    "\n",
    "N.times do\n",
    "  # Array#inject -------------------------\n",
    "  methods << :inject\n",
    "  times << Benchmark.realtime { ary.inject(:+) }\n",
    "  # while expr ---------------------------\n",
    "  methods << :while\n",
    "  times << Benchmark.realtime {\n",
    "    sum, i = ary[0], 1\n",
    "    while i < L\n",
    "      sum += ary[i]; i += 1\n",
    "    end\n",
    "  }\n",
    "  # Array#sum ----------------------------\n",
    "  methods << :ary_sum\n",
    "  times << Benchmark.realtime { ary.sum }\n",
    "  # Enumerable#sum -----------------------\n",
    "  methods << :enum_sum\n",
    "  enum = ary.each\n",
    "  times << Benchmark.realtime { enum.sum }\n",
    "end"
   ]
  },
  {
   "cell_type": "markdown",
   "metadata": {},
   "source": [
    "測定結果をデータフレームにします。"
   ]
  },
  {
   "cell_type": "code",
   "execution_count": 14,
   "metadata": {},
   "outputs": [
    {
     "data": {
      "text/html": [
       "<div>\n",
       "<style>\n",
       "    .dataframe thead tr:only-child th {\n",
       "        text-align: right;\n",
       "    }\n",
       "\n",
       "    .dataframe thead th {\n",
       "        text-align: left;\n",
       "    }\n",
       "\n",
       "    .dataframe tbody tr th {\n",
       "        vertical-align: top;\n",
       "    }\n",
       "</style>\n",
       "<table border=\"1\" class=\"dataframe\">\n",
       "  <thead>\n",
       "    <tr style=\"text-align: right;\">\n",
       "      <th></th>\n",
       "      <th>method</th>\n",
       "      <th>time</th>\n",
       "    </tr>\n",
       "  </thead>\n",
       "  <tbody>\n",
       "    <tr>\n",
       "      <th>0</th>\n",
       "      <td>inject</td>\n",
       "      <td>0.000356</td>\n",
       "    </tr>\n",
       "    <tr>\n",
       "      <th>1</th>\n",
       "      <td>while</td>\n",
       "      <td>0.000309</td>\n",
       "    </tr>\n",
       "    <tr>\n",
       "      <th>2</th>\n",
       "      <td>ary_sum</td>\n",
       "      <td>0.000049</td>\n",
       "    </tr>\n",
       "    <tr>\n",
       "      <th>3</th>\n",
       "      <td>enum_sum</td>\n",
       "      <td>0.000178</td>\n",
       "    </tr>\n",
       "    <tr>\n",
       "      <th>4</th>\n",
       "      <td>inject</td>\n",
       "      <td>0.000329</td>\n",
       "    </tr>\n",
       "    <tr>\n",
       "      <th>5</th>\n",
       "      <td>while</td>\n",
       "      <td>0.000312</td>\n",
       "    </tr>\n",
       "    <tr>\n",
       "      <th>6</th>\n",
       "      <td>ary_sum</td>\n",
       "      <td>0.000049</td>\n",
       "    </tr>\n",
       "    <tr>\n",
       "      <th>7</th>\n",
       "      <td>enum_sum</td>\n",
       "      <td>0.000164</td>\n",
       "    </tr>\n",
       "    <tr>\n",
       "      <th>8</th>\n",
       "      <td>inject</td>\n",
       "      <td>0.000330</td>\n",
       "    </tr>\n",
       "    <tr>\n",
       "      <th>9</th>\n",
       "      <td>while</td>\n",
       "      <td>0.000313</td>\n",
       "    </tr>\n",
       "    <tr>\n",
       "      <th>...</th>\n",
       "      <td>...</td>\n",
       "      <td>...</td>\n",
       "    </tr>\n",
       "    <tr>\n",
       "      <th>390</th>\n",
       "      <td>ary_sum</td>\n",
       "      <td>0.000045</td>\n",
       "    </tr>\n",
       "    <tr>\n",
       "      <th>391</th>\n",
       "      <td>enum_sum</td>\n",
       "      <td>0.000162</td>\n",
       "    </tr>\n",
       "    <tr>\n",
       "      <th>392</th>\n",
       "      <td>inject</td>\n",
       "      <td>0.000324</td>\n",
       "    </tr>\n",
       "    <tr>\n",
       "      <th>393</th>\n",
       "      <td>while</td>\n",
       "      <td>0.000311</td>\n",
       "    </tr>\n",
       "    <tr>\n",
       "      <th>394</th>\n",
       "      <td>ary_sum</td>\n",
       "      <td>0.000054</td>\n",
       "    </tr>\n",
       "    <tr>\n",
       "      <th>395</th>\n",
       "      <td>enum_sum</td>\n",
       "      <td>0.000173</td>\n",
       "    </tr>\n",
       "    <tr>\n",
       "      <th>396</th>\n",
       "      <td>inject</td>\n",
       "      <td>0.000338</td>\n",
       "    </tr>\n",
       "    <tr>\n",
       "      <th>397</th>\n",
       "      <td>while</td>\n",
       "      <td>0.000312</td>\n",
       "    </tr>\n",
       "    <tr>\n",
       "      <th>398</th>\n",
       "      <td>ary_sum</td>\n",
       "      <td>0.000047</td>\n",
       "    </tr>\n",
       "    <tr>\n",
       "      <th>399</th>\n",
       "      <td>enum_sum</td>\n",
       "      <td>0.000164</td>\n",
       "    </tr>\n",
       "  </tbody>\n",
       "</table>\n",
       "<p>400 rows × 2 columns</p>\n",
       "</div>"
      ],
      "text/plain": [
       "       method      time\n",
       "0      inject  0.000356\n",
       "1       while  0.000309\n",
       "2     ary_sum  0.000049\n",
       "3    enum_sum  0.000178\n",
       "4      inject  0.000329\n",
       "5       while  0.000312\n",
       "6     ary_sum  0.000049\n",
       "7    enum_sum  0.000164\n",
       "8      inject  0.000330\n",
       "9       while  0.000313\n",
       "..        ...       ...\n",
       "390   ary_sum  0.000045\n",
       "391  enum_sum  0.000162\n",
       "392    inject  0.000324\n",
       "393     while  0.000311\n",
       "394   ary_sum  0.000054\n",
       "395  enum_sum  0.000173\n",
       "396    inject  0.000338\n",
       "397     while  0.000312\n",
       "398   ary_sum  0.000047\n",
       "399  enum_sum  0.000164\n",
       "\u0000\u0000\u0000\u0000\u0000\u0000\u00000\u0000\u0000\u0000\u0000\u0000\u0000\u00000`\u0000umns]"
      ]
     },
     "execution_count": 14,
     "metadata": {},
     "output_type": "execute_result"
    }
   ],
   "source": [
    "df = Pandas::DataFrame.new(data: { method: methods, time: times })"
   ]
  },
  {
   "cell_type": "markdown",
   "metadata": {},
   "source": [
    "そして、データフレームを seaborn に渡して可視化します。"
   ]
  },
  {
   "cell_type": "code",
   "execution_count": 15,
   "metadata": {},
   "outputs": [
    {
     "data": {
      "image/png": "[encoded data removed]",
      "text/plain": [
       "<matplotlib.figure.Figure object at 0x111acbb70>"
      ]
     },
     "execution_count": 15,
     "metadata": {},
     "output_type": "execute_result"
    },
    {
     "data": {
      "text/plain": [
       "<matplotlib.axes._subplots.AxesSubplot object at 0x113d814a8>"
      ]
     },
     "execution_count": 15,
     "metadata": {},
     "output_type": "execute_result"
    }
   ],
   "source": [
    "sns = PyCall.import_module('seaborn')\n",
    "sns.barplot(x: 'method', y: 'time', data: df)"
   ]
  },
  {
   "cell_type": "markdown",
   "metadata": {},
   "source": [
    "## Using pandas with ActiveRecord\n",
    "\n",
    "The wrapper library of pandas supports to create a data frame from a connection of ActiveRecord.\n",
    "\n",
    "You can see the example usage of this feature in the following demonstration Rails app.\n",
    "\n",
    "https://github.com/mrkn/bugs-viewer-rk2017"
   ]
  },
  {
   "cell_type": "markdown",
   "metadata": {},
   "source": [
    "## Object Recognition with Keras"
   ]
  },
  {
   "cell_type": "markdown",
   "metadata": {
    "collapsed": true
   },
   "source": [
    "TBD"
   ]
  },
  {
   "cell_type": "code",
   "execution_count": null,
   "metadata": {
    "collapsed": true
   },
   "outputs": [],
   "source": []
  }
 ],
 "metadata": {
  "_draft": {
   "nbviewer_url": "https://gist.github.com/dd5380818a21d0e596bdbb06e9232269"
  },
  "gist": {
   "data": {
    "description": "pycall_lecture.ipynb",
    "public": true
   },
   "id": "dd5380818a21d0e596bdbb06e9232269"
  },
  "kernelspec": {
   "display_name": "Ruby 2.4.1",
   "language": "ruby",
   "name": "ruby"
  },
  "language_info": {
   "file_extension": ".rb",
   "mimetype": "application/x-ruby",
   "name": "ruby",
   "version": "2.4.1"
  },
  "toc": {
   "nav_menu": {},
   "number_sections": true,
   "sideBar": true,
   "skip_h1_title": false,
   "toc_cell": false,
   "toc_position": {
    "height": "770px",
    "left": "0px",
    "right": "1430px",
    "top": "109px",
    "width": "218px"
   },
   "toc_section_display": "block",
   "toc_window_display": true
  }
 },
 "nbformat": 4,
 "nbformat_minor": 2
}
